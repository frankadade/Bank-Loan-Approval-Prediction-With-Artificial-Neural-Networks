{
  "nbformat": 4,
  "nbformat_minor": 0,
  "metadata": {
    "colab": {
      "provenance": [],
      "include_colab_link": true
    },
    "kernelspec": {
      "name": "python3",
      "display_name": "Python 3"
    },
    "language_info": {
      "name": "python"
    }
  },
  "cells": [
    {
      "cell_type": "markdown",
      "metadata": {
        "id": "view-in-github",
        "colab_type": "text"
      },
      "source": [
        "<a href=\"https://colab.research.google.com/github/frankadade/Bank-Loan-Approval-Prediction-With-Artificial-Neural-Networks/blob/main/Frank_Adade_Module_1_Coding_assignment.ipynb\" target=\"_parent\"><img src=\"https://colab.research.google.com/assets/colab-badge.svg\" alt=\"Open In Colab\"/></a>"
      ]
    },
    {
      "cell_type": "markdown",
      "source": [
        "#CIS 650 Fall 2023  Module 1 Coding assignment"
      ],
      "metadata": {
        "id": "chw6TSCHRMWK"
      }
    },
    {
      "cell_type": "code",
      "execution_count": null,
      "metadata": {
        "id": "au2Fhp8MRLhc"
      },
      "outputs": [],
      "source": [
        "# Get three numeric inputs from the user\n",
        "num1 = float(input(\"Enter the first number: \"))\n",
        "num2 = float(input(\"Enter the second number: \"))\n",
        "num3 = float(input(\"Enter the third number: \"))\n",
        "\n",
        "# Determine the largest, smallest, and middle values using if blocks\n",
        "largest = num1\n",
        "smallest = num1\n",
        "\n",
        "if num2 > largest:\n",
        "    largest = num2\n",
        "if num3 > largest:\n",
        "    largest = num3\n",
        "\n",
        "if num2 < smallest:\n",
        "    smallest = num2\n",
        "if num3 < smallest:\n",
        "    smallest = num3\n",
        "\n",
        "# Determine the middle value\n",
        "middle = num1 + num2 + num3 - largest - smallest\n",
        "\n",
        "# Print the results\n",
        "print(\"Largest value:\", largest)\n",
        "print(\"Smallest value:\", smallest)\n",
        "print(\"Middle value:\", middle)\n"
      ]
    },
    {
      "cell_type": "markdown",
      "source": [
        "Task 1: Get three numeric inputs from the user.  Using if blocks, determine which of the three is the largest, which of the three is smallest and which of the three is the middle value.  Print the results, each on a separate line. Use appropriate variable names. (10 points)"
      ],
      "metadata": {
        "id": "Yiwc78i9RYF6"
      }
    },
    {
      "cell_type": "code",
      "source": [
        "# Get three numeric inputs from the user\n",
        "num1 = float(input(\"Enter the first number: \"))\n",
        "num2 = float(input(\"Enter the second number: \"))\n",
        "num3 = float(input(\"Enter the third number: \"))\n",
        "\n",
        "# Determine the largest, smallest, and middle values using if blocks\n",
        "largest = num1\n",
        "smallest = num1\n",
        "\n",
        "if num2 > largest:\n",
        "    largest = num2\n",
        "if num3 > largest:\n",
        "    largest = num3\n",
        "\n",
        "if num2 < smallest:\n",
        "    smallest = num2\n",
        "if num3 < smallest:\n",
        "    smallest = num3\n",
        "\n",
        "# Determine the middle value\n",
        "if num1 != largest and num1 != smallest:\n",
        "    middle = num1\n",
        "elif num2 != largest and num2 != smallest:\n",
        "    middle = num2\n",
        "else:\n",
        "    middle = num3\n",
        "\n",
        "# Print the results\n",
        "print(\"Largest value:\", largest)\n",
        "print(\"Smallest value:\", smallest)\n",
        "print(\"Middle value:\", middle)\n"
      ],
      "metadata": {
        "id": "Ak4DR48IR7kd",
        "colab": {
          "base_uri": "https://localhost:8080/"
        },
        "outputId": "12f7b0fa-b127-48a1-eacb-70d4293cfb9b"
      },
      "execution_count": 2,
      "outputs": [
        {
          "output_type": "stream",
          "name": "stdout",
          "text": [
            "Enter the first number: 100\n",
            "Enter the second number: 60\n",
            "Enter the third number: 40\n",
            "Largest value: 100.0\n",
            "Smallest value: 40.0\n",
            "Middle value: 60.0\n"
          ]
        }
      ]
    },
    {
      "cell_type": "markdown",
      "source": [
        "Task 2: The quadratic equation $$ ax^2+bx+c = 0 $$\n",
        " can be solved using the quadratic formula\n",
        " $$\n",
        "  \\frac {-b ±\\sqrt{b^2-4ac}}{4a}\n",
        "  $$\n",
        "Prompt the user to input values of the coefficients a, b, and c.  If $ a \\ne 0$, and $b \\ne 0 $, compute the two roots of the equation and print them.  Do not use any library, use onlyt the concepts we learned in first 4 chapters of the Groner book (20 points)\n"
      ],
      "metadata": {
        "id": "qQwOpq1VR8Sd"
      }
    },
    {
      "cell_type": "code",
      "source": [
        "# Prompt user to input coefficients\n",
        "a = float(input(\"Enter the coefficient a: \"))\n",
        "b = float(input(\"Enter the coefficient b: \"))\n",
        "c = float(input(\"Enter the coefficient c: \"))\n",
        "\n",
        "# Check if 'a' is not equal to 0\n",
        "if a != 0 and b != 0:\n",
        "    # Calculate the discriminant\n",
        "    discriminant = b ** 2 - 4 * a * c\n",
        "\n",
        "    # Check if discriminant is positive, negative, or zero\n",
        "    if discriminant > 0:\n",
        "        root1 = (-b + discriminant ** 0.5) / (4 * a)\n",
        "        root2 = (-b - discriminant ** 0.5) / (4 * a)\n",
        "        print(\"Root 1:\", root1)\n",
        "        print(\"Root 2:\", root2)\n",
        "    elif discriminant == 0:\n",
        "        root = -b / (4 * a)\n",
        "        print(\"The equation has one real root:\", root)\n",
        "    else:\n",
        "        real_part = -b / (4 * a)\n",
        "        imaginary_part = (-discriminant) ** 0.5 / (4 * a)\n",
        "        print(\"The equation has complex roots:\")\n",
        "        print(\"Root 1:\", real_part, \"+\", imaginary_part, \"i\")\n",
        "        print(\"Root 2:\", real_part, \"-\", imaginary_part, \"i\")\n",
        "else:\n",
        "    print(\"Coefficient 'a' cannot be 0 for a quadratic equation.\")\n",
        ""
      ],
      "metadata": {
        "id": "snQjbwITUy8T",
        "colab": {
          "base_uri": "https://localhost:8080/"
        },
        "outputId": "008ac424-1486-4e3a-be99-f87617b8f605"
      },
      "execution_count": 3,
      "outputs": [
        {
          "output_type": "stream",
          "name": "stdout",
          "text": [
            "Enter the coefficient a: 10\n",
            "Enter the coefficient b: -5\n",
            "Enter the coefficient c: 3\n",
            "The equation has complex roots:\n",
            "Root 1: 0.125 + 0.24366985862022408 i\n",
            "Root 2: 0.125 - 0.24366985862022408 i\n"
          ]
        }
      ]
    },
    {
      "cell_type": "markdown",
      "source": [
        "Task 3:\n",
        "\n",
        "Accept user bet_amount as a float.  Add the amount to house_purse.  Accept user guess as one of the three options (below 7, 7, and above 7).\n",
        "\n",
        "Simulate the roll of 2 dies and sum up the numbers as result (see code below).  \n",
        "\n",
        "Apply these rules to calculate the payout.\n",
        "\n",
        "- If the result < 7, and user guess is also 'below 7', the payout is the same as the  bet_amount.\n",
        "- if the result = 7, and user guess is also 7, the payout = 2*bet_amount\n",
        "- If the result > 7, and the user guess is also 'above 7', the payout is the same as the bet_amount.\n",
        "- when the user wins, (user gets a payout), decrease the amount from the house purse.\n",
        "\n",
        "- If the user quess did not match the outcome, the payout = 0.  The payout gets added to the house_purse\n",
        "\n",
        "After each play, prompt if the user would like to play again.  If the user answered Y, continue.  Otherwise, exit the game print the resulting house_purse (see code below) (30 points)\n",
        "\n",
        "\n",
        "\n"
      ],
      "metadata": {
        "id": "FzyQvgtrPP0T"
      }
    },
    {
      "cell_type": "code",
      "source": [
        "import random\n",
        "#initialize house_purse to 100\n",
        "while True:\n",
        "  result = random.randint(1,12),random.randint(1,12)\n",
        "  #print(result)\n",
        "  #code for inputs from the user\n",
        "  #code for computing payout amounts\n",
        "  #Code for updating the house_purse\n",
        "  user_choice = input('Play again? Y/N')\n",
        "  if user_choice == 'Y' or user_choice == 'y':\n",
        "    continue\n",
        "  else:\n",
        "    break\n",
        "# code for printing the resulting house_purse"
      ],
      "metadata": {
        "colab": {
          "base_uri": "https://localhost:8080/"
        },
        "id": "eINfV6A1PZo-",
        "outputId": "943b651d-6649-44a0-9d9f-2f6e0f6c7640"
      },
      "execution_count": null,
      "outputs": [
        {
          "name": "stdout",
          "output_type": "stream",
          "text": [
            "Play again? Y/Ng\n"
          ]
        }
      ]
    },
    {
      "cell_type": "code",
      "source": [
        "import random\n",
        "\n",
        "house_purse = 100  # Initialize house_purse to 100\n",
        "\n",
        "while True:\n",
        "    result = random.randint(1, 6) + random.randint(1, 6)  # Simulate the roll of two dice\n",
        "    print(f\"Rolled dice: {result}\")\n",
        "\n",
        "    bet_amount = float(input(\"Enter your bet amount: \"))\n",
        "    house_purse += bet_amount  # Add the bet amount to the house_purse\n",
        "\n",
        "    user_guess = input(\"Guess number \")\n",
        "\n",
        "    if user_guess == \"7\" and result == 7:\n",
        "        payout = 2 * bet_amount\n",
        "    elif user_guess == \"7\" and result != 7:\n",
        "        payout = 0\n",
        "    elif user_guess == \"below 7\" and result < 7:\n",
        "        payout = bet_amount\n",
        "    elif user_guess == \"above 7\" and result > 7:\n",
        "        payout = bet_amount\n",
        "    else:\n",
        "        payout = 0\n",
        "\n",
        "    if payout > 0:\n",
        "        print(\"Congratulations! You win!\")\n",
        "        house_purse -= payout  # Decrease amount from house purse\n",
        "    else:\n",
        "        print(\"Sorry, you lose.\")\n",
        "        house_purse += payout  # Add payout to house purse\n",
        "\n",
        "    user_choice = input(\"Play again? Y/N: \")\n",
        "    if user_choice.lower() != \"y\":\n",
        "        print(f\"Final house purse: {house_purse}\")\n",
        "        break"
      ],
      "metadata": {
        "id": "XLsHV3O5Prc-",
        "colab": {
          "base_uri": "https://localhost:8080/"
        },
        "outputId": "2693152d-bb01-477d-df8f-86c168cafee4"
      },
      "execution_count": null,
      "outputs": [
        {
          "output_type": "stream",
          "name": "stdout",
          "text": [
            "Rolled dice: 7\n",
            "Enter your bet amount: 1\n",
            "Guess number 250\n",
            "Sorry, you lose.\n",
            "Play again? Y/N: Y\n",
            "Rolled dice: 6\n",
            "Enter your bet amount: 20\n",
            "Guess number 5\n",
            "Sorry, you lose.\n",
            "Play again? Y/N: Y\n",
            "Rolled dice: 2\n",
            "Enter your bet amount: 60\n",
            "Guess number 4\n",
            "Sorry, you lose.\n",
            "Play again? Y/N: Y\n",
            "Rolled dice: 7\n",
            "Enter your bet amount: 50\n",
            "Guess number 2\n",
            "Sorry, you lose.\n"
          ]
        }
      ]
    }
  ]
}